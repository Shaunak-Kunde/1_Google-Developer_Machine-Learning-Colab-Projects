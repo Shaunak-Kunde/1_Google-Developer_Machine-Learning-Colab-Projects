{
 "cells": [
  {
   "cell_type": "code",
   "execution_count": null,
   "id": "edf5b601-8f09-47f8-8749-c4cfc4eeec9f",
   "metadata": {},
   "outputs": [],
   "source": [
    "#shaunak Kunde object oriented programming in python"
   ]
  },
  {
   "cell_type": "code",
   "execution_count": 133,
   "id": "9c364065-791c-4e6d-a89f-84db5028c1ea",
   "metadata": {},
   "outputs": [
    {
     "name": "stdout",
     "output_type": "stream",
     "text": [
      "Jeslif Fernandes is 22 years old\n",
      "Shaunak Kunde is 27 years old\n"
     ]
    }
   ],
   "source": [
    "#Class Creation and Object Instantiation\n",
    "class Competitor:\n",
    "    pass\n",
    "\n",
    "conor = Competitor()\n",
    "conor.name = \"Shaunak Kunde\"\n",
    "conor.age = 27\n",
    "conor.weight = 60\n",
    "\n",
    "nate = Competitor()\n",
    "nate.name = \"Jeslif Fernandes\"\n",
    "nate.age = 22\n",
    "nate.weight = 50\n",
    "\n",
    "def print_competitor_age(obj):\n",
    "    \"\"\"Print out age statistics about a competitor\"\"\"\n",
    "    print(f\"{obj.name} is {obj.age} years old\")\n",
    "\n",
    "print_competitor_age(nate)\n",
    "print_competitor_age(conor)"
   ]
  },
  {
   "cell_type": "code",
   "execution_count": 137,
   "id": "d5e2286c-3f74-401c-96b1-3bf74176ec35",
   "metadata": {},
   "outputs": [],
   "source": [
    "#Inheritance in OOP\n",
    "class UFC:\n",
    "    def weight_class(self, weight):\n",
    "        \"\"\"Weight Class Finder\"\"\"\n",
    "        classes = {58: \"Lightweight\", 94: \"Welterweight\"}\n",
    "        return classes.get(weight, \"Unknown Class\")\n",
    "\n",
    "class Competitor(UFC):\n",
    "    pass\n",
    "\n",
    "conor = Competitor()\n",
    "conor.name = \"McLaren Strategy\"\n",
    "conor.age = 23\n",
    "conor.weight = 58\n",
    "\n",
    "nate = Competitor()\n",
    "nate.name = \"Berry Whisk\"\n",
    "nate.age = 39\n",
    "nate.weight = 94\n"
   ]
  },
  {
   "cell_type": "code",
   "execution_count": 139,
   "id": "a81eef4c-49e7-4d11-9492-d93c2d6ccb07",
   "metadata": {},
   "outputs": [
    {
     "name": "stdout",
     "output_type": "stream",
     "text": [
      "Lightweight\n"
     ]
    }
   ],
   "source": [
    "print(conor.weight_class(conor.weight))"
   ]
  },
  {
   "cell_type": "code",
   "execution_count": 141,
   "id": "75b7385f-1a59-4287-a8e1-0b6cc1e1e1d6",
   "metadata": {},
   "outputs": [
    {
     "name": "stdout",
     "output_type": "stream",
     "text": [
      "Welterweight\n"
     ]
    }
   ],
   "source": [
    "print(nate.weight_class(nate.weight))"
   ]
  },
  {
   "cell_type": "code",
   "execution_count": 169,
   "id": "49ff2ee1-5823-4419-9dd6-b00bcbad2e92",
   "metadata": {},
   "outputs": [
    {
     "name": "stdout",
     "output_type": "stream",
     "text": [
      "Rose is the all-time champ in the Lightweight division of the UFC\n"
     ]
    }
   ],
   "source": [
    "# Multiple Inheritance\n",
    "class LST:\n",
    "    def org(self, org_name):\n",
    "        orgs = {\n",
    "            \"LST\": \"Long Score Tournament\",\n",
    "            \"Bellator\": \"LST promotion in Bharat Mandapam, Delhi.\",\n",
    "            \"Rose\": \"UFC\"  # Added for demo\n",
    "        }\n",
    "        return orgs.get(org_name, \"Private Organization\")\n",
    "\n",
    "class CompetitorAll(UFC, LST):\n",
    "    pass\n",
    "\n",
    "gsp = CompetitorAll()\n",
    "gsp.name = \"Rose\"\n",
    "gsp.age = 26\n",
    "gsp.weight = 58\n",
    "\n",
    "print(f\"{gsp.name} is the all-time champ in the {gsp.weight_class(gsp.weight)} division of the {gsp.org('Rose')}\")"
   ]
  },
  {
   "cell_type": "code",
   "execution_count": 161,
   "id": "a255fe24-efe6-4d90-bc08-4c415be41103",
   "metadata": {},
   "outputs": [
    {
     "name": "stdout",
     "output_type": "stream",
     "text": [
      "84\n"
     ]
    }
   ],
   "source": [
    "#Special Class Methods: __len__, __dict__\n",
    "class JonSnow:\n",
    "#Jon Snow class with customized length\n",
    "    def __len__(self):\n",
    "        return 84\n",
    "\n",
    "jon_sn = JonSnow()\n",
    "print(len(jon_sn))  # Output: 84"
   ]
  },
  {
   "cell_type": "code",
   "execution_count": 149,
   "id": "e6af7e61-5d17-44a7-80f6-180cffbcc6c3",
   "metadata": {},
   "outputs": [
    {
     "name": "stdout",
     "output_type": "stream",
     "text": [
      "{'red': 'red'}\n"
     ]
    }
   ],
   "source": [
    "class Foo:\n",
    "    pass\n",
    "\n",
    "f = Foo()\n",
    "f.red = \"red\"\n",
    "print(f.__dict__)  # Shows attributes"
   ]
  },
  {
   "cell_type": "code",
   "execution_count": 163,
   "id": "29925af5-2780-4834-8e63-1714d21f5822",
   "metadata": {},
   "outputs": [
    {
     "name": "stdout",
     "output_type": "stream",
     "text": [
      "84\n"
     ]
    }
   ],
   "source": [
    "#@property Decorator for Read-only Attributes\n",
    "class JonSnow:\n",
    "    @property\n",
    "    def reach(self):\n",
    "        return 84\n",
    "\n",
    "jon_snn = JonSnow()\n",
    "print(jon_snn.reach)"
   ]
  },
  {
   "cell_type": "code",
   "execution_count": 165,
   "id": "0defba93-7138-4f54-98c1-9b8a822b140b",
   "metadata": {},
   "outputs": [
    {
     "name": "stdout",
     "output_type": "stream",
     "text": [
      "84\n"
     ]
    }
   ],
   "source": [
    "#@staticmethod Example\n",
    "class JonS:\n",
    "    @staticmethod\n",
    "    def reach():\n",
    "        return 84\n",
    "\n",
    "jon_s = JonS()\n",
    "print(jon_s.reach())  # Output: 84"
   ]
  },
  {
   "cell_type": "code",
   "execution_count": 167,
   "id": "9f05ac8d-d60e-4e1e-bc2d-fef367b7b62c",
   "metadata": {},
   "outputs": [
    {
     "name": "stdout",
     "output_type": "stream",
     "text": [
      "Duval\n",
      "{'not_unbreakable': 'Arya2'}\n"
     ]
    }
   ],
   "source": [
    "#Immutability Concepts (Not Truly Enforced)\n",
    "class Foo:\n",
    "    @property\n",
    "    def unbreakable(self):\n",
    "        return \"Duval\"\n",
    "\n",
    "foo = Foo()\n",
    "print(foo.unbreakable) \n",
    "foo.not_unbreakable = \"Arya2\"  \n",
    "print(foo.__dict__)"
   ]
  },
  {
   "cell_type": "code",
   "execution_count": null,
   "id": "f1d814a6-ef6f-443f-bc18-3572844eacf0",
   "metadata": {},
   "outputs": [],
   "source": []
  }
 ],
 "metadata": {
  "kernelspec": {
   "display_name": "Python 3 (ipykernel)",
   "language": "python",
   "name": "python3"
  },
  "language_info": {
   "codemirror_mode": {
    "name": "ipython",
    "version": 3
   },
   "file_extension": ".py",
   "mimetype": "text/x-python",
   "name": "python",
   "nbconvert_exporter": "python",
   "pygments_lexer": "ipython3",
   "version": "3.12.4"
  }
 },
 "nbformat": 4,
 "nbformat_minor": 5
}
